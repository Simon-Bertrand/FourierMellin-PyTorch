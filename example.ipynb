{
 "cells": [
  {
   "cell_type": "code",
   "execution_count": null,
   "id": "f1944a78",
   "metadata": {},
   "outputs": [],
   "source": [
    "from functools import lru_cache\n",
    "import torch, torchvision\n",
    "import matplotlib.pyplot as plt\n",
    "import numpy as np\n",
    "import math\n",
    "\n",
    "from so_rigidreg.libs.torch_fm.torch_fouriermellin.transform import RigidTransform\n",
    "\n",
    "\n",
    "image = torchvision.io.read_image('public/mandrill.png')/255.\n",
    "N=20\n",
    "bimage = image.unsqueeze(0).expand(N,-1,-1,-1)\n",
    "gtScale = torch.rand(N)+0.55\n",
    "gtAngle = torch.randint(-90, 90, (N,)).float()\n",
    "gtTransX = 75*(torch.rand(N)*2-1)\n",
    "gtTransY = 75*(torch.rand(N)*2-1)\n",
    "bimageTransf = RigidTransform(gtScale, gtTransX, gtTransY, gtAngle)(bimage)"
   ]
  },
  {
   "cell_type": "code",
   "execution_count": null,
   "id": "2d91f705",
   "metadata": {},
   "outputs": [],
   "source": [
    "from so_rigidreg.libs.torch_fm.torch_fouriermellin.registration import MellinFourierRegistration\n",
    "\n",
    "\n",
    "mf = MellinFourierRegistration(*bimage.shape[-2:])\n",
    "ans = mf.register_image(bimage, bimageTransf)\n",
    "imageTransfRegistered = ans['registered']\n"
   ]
  },
  {
   "cell_type": "code",
   "execution_count": null,
   "id": "8a2d1aee",
   "metadata": {},
   "outputs": [],
   "source": [
    "mf.get_parameters_domain()"
   ]
  },
  {
   "cell_type": "code",
   "execution_count": null,
   "id": "2a53354c",
   "metadata": {},
   "outputs": [],
   "source": [
    "\n",
    "fig, axs = plt.subplots(10, 2, figsize=(8, 24))\n",
    "for i in range(10):\n",
    "    axs[i, 0].imshow(bimageTransf[i].moveaxis(0,-1))\n",
    "    axs[i, 0].set_title('Rigid Transformed')\n",
    "    axs[i, 0].axis('off')\n",
    "    axs[i, 1].imshow(imageTransfRegistered[i].moveaxis(0,-1))\n",
    "    axs[i, 1].set_title('Registered Image')\n",
    "    axs[i, 1].imshow(bimage[i].moveaxis(0,-1), alpha=0.5)\n",
    "    axs[i, 1].axis('off')\n",
    "plt.tight_layout()\n",
    "plt.show()"
   ]
  }
 ],
 "metadata": {
  "kernelspec": {
   "display_name": "torch_cuda",
   "language": "python",
   "name": "python3"
  },
  "language_info": {
   "codemirror_mode": {
    "name": "ipython",
    "version": 3
   },
   "file_extension": ".py",
   "mimetype": "text/x-python",
   "name": "python",
   "nbconvert_exporter": "python",
   "pygments_lexer": "ipython3",
   "version": "3.12.3"
  }
 },
 "nbformat": 4,
 "nbformat_minor": 5
}
