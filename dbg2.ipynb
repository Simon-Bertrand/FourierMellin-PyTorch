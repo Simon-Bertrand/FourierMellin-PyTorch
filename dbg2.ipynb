{
 "cells": [
  {
   "cell_type": "code",
   "execution_count": 1,
   "id": "f1944a78",
   "metadata": {},
   "outputs": [],
   "source": [
    "from functools import lru_cache\n",
    "import torch, torchvision\n",
    "import matplotlib.pyplot as plt\n",
    "import numpy as np\n",
    "import math\n",
    "class PhaseCorrelation(torch.nn.Module):\n",
    "    def __init__(self, shift=True):\n",
    "        super(PhaseCorrelation, self).__init__()\n",
    "        self.shift=shift\n",
    "\n",
    "    def forward(self, im, template):\n",
    "        imFft = torch.fft.rfft2(im)\n",
    "        templayteFft = torch.fft.rfft2(template)\n",
    "        out = torch.fft.irfft2((imFft*templayteFft.conj())/(imFft*templayteFft).abs())\n",
    "        if not self.shift:\n",
    "            return out\n",
    "        return torch.fft.ifftshift(out)\n",
    "    \n",
    "class HighPassFilter(torch.nn.Module):\n",
    "    def __init__(self):\n",
    "        super().__init__()\n",
    "    @lru_cache(maxsize=1)\n",
    "    def get_kernel(self, shape):\n",
    "        ker = torch.outer(torch.blackman_window(shape[0]), torch.blackman_window(shape[1]))\n",
    "        return torch.abs(ker - torch.max(ker)).unsqueeze(0).unsqueeze(0)\n",
    "    def forward(self, img):\n",
    "        return img.abs() * self.get_kernel(img.shape[-2:])\n",
    "    \n",
    "    \n",
    "class RigidTransform(torch.nn.Module):\n",
    "    def __init__(self,scale_alpha, trans_x, trans_y,  rot_beta):\n",
    "        super().__init__()\n",
    "        self.scale_alpha = scale_alpha\n",
    "        self.trans_x = trans_x\n",
    "        self.trans_y = trans_y\n",
    "        self.rot_beta = rot_beta\n",
    "    \n",
    "    @staticmethod\n",
    "    def rotmat_2d(rot : torch.Tensor) -> torch.Tensor:\n",
    "        cos_theta = torch.cos(rot/180 * torch.pi)\n",
    "        sin_theta = torch.sin(rot/180 * torch.pi)\n",
    "        R = torch.stack([\n",
    "            torch.stack([cos_theta, sin_theta], dim=-1),\n",
    "            torch.stack([-sin_theta,  cos_theta], dim=-1)\n",
    "        ], dim=-2)  \n",
    "        return R\n",
    "    def forward(self, image ):\n",
    "        # Apply a rigid (geometric) transform: scale, translation, rotation via bilinear interpolation\n",
    "        N,_,H,W = image.shape\n",
    "        transfMat = torch.cat([\n",
    "            torch.cat([\n",
    "                self.scale_alpha.unsqueeze(-1).unsqueeze(-1)*self.rotmat_2d(self.rot_beta),\n",
    "                torch.stack([self.trans_x/(W//2) , self.trans_y/(H//2)], dim=-1).unsqueeze(-1)\n",
    "            ],dim=-1),\n",
    "            torch.cat([\n",
    "                torch.zeros(self.scale_alpha.size(0),1,2),\n",
    "                torch.ones(self.scale_alpha.size(0),1,1)\n",
    "            ], dim=-1)\n",
    "        ], dim=-2)\n",
    "        coords = torch.stack(torch.meshgrid(torch.linspace(-1, 1, H), torch.linspace(-1, 1, W),indexing='xy') ).unsqueeze(0)\n",
    "        coordsHomo = torch.cat([coords.flatten(-2),torch.ones((coords.size(0),1,H*W))], dim=-2)\n",
    "        coordsTransf = torch.einsum(\"bcd,bdl->bcl\", transfMat,coordsHomo)[...,:2,:].reshape(N,2, H, W).moveaxis(1,-1)\n",
    "        return torch.nn.functional.grid_sample(\n",
    "            image,\n",
    "            coordsTransf,\n",
    "            mode='bilinear',\n",
    "            align_corners=True,\n",
    "        )\n",
    "        \n",
    "class LogPolarRepresentation(torch.nn.Module):\n",
    "    def __init__(self, H,W):\n",
    "        super().__init__()\n",
    "        self.H = H\n",
    "        self.W = W\n",
    "        \n",
    "    def get_radius(self):\n",
    "        return (torch.norm(torch.tensor([self.H,self.W], dtype=torch.float32))/2).long().item()\n",
    "    \n",
    "    def remap(self, img, grid):\n",
    "        return torch.nn.functional.grid_sample(\n",
    "            img, grid.clamp(-1,1).unsqueeze(0).expand(img.size(0),*3*[-1]), mode='bilinear', align_corners=True\n",
    "        )\n",
    "        \n",
    "    def xy_grid(self):\n",
    "        return torch.meshgrid(*[torch.linspace(1,-1,self.H),torch.linspace(1,-1,self.W)], indexing=\"xy\")\n",
    "    \n",
    "    def pol2cartgrid(self):\n",
    "        radius = self.get_radius()\n",
    "        indices = torch.complex(*self.xy_grid())\n",
    "        return (radius*indices.abs()/math.sqrt(2)).log()/math.log(radius)*2-1, indices.angle()/torch.pi \n",
    "    \n",
    "    def thetarho_grid(self):\n",
    "        radius = (torch.norm(torch.tensor([self.H,self.W], dtype=torch.float32))/2).long().item()\n",
    "        theta, r = torch.meshgrid(*[torch.arange(360),torch.arange(radius)], indexing=\"ij\")\n",
    "        return theta, radius ** (r / radius)\n",
    "    \n",
    "    def cart2polgrid(self):\n",
    "        theta, rho = self.thetarho_grid()\n",
    "        indices = torch.polar(rho, theta * torch.pi / 180)\n",
    "        return indices.real +self.W // 2, indices.imag + self.H // 2\n",
    "    \n",
    "    def cart2pol(self, img):\n",
    "        xInds, yInds = self.cart2polgrid()\n",
    "        grid = torch.stack([(xInds / (img.shape[-2] - 1)) * 2 - 1, (yInds / (img.shape[-1] - 1)) * 2 - 1], dim=-1)\n",
    "        return self.remap(\n",
    "            img, grid\n",
    "        )\n",
    "        \n",
    "    def pol2cart(self, img):\n",
    "        grid = torch.stack(self.pol2cartgrid(), dim=-1)\n",
    "        return self.remap(\n",
    "            img, grid\n",
    "        )       \n",
    "class MellinFourierRegistration(torch.nn.Module):\n",
    "    def __init__(self, H, W):\n",
    "        super().__init__()\n",
    "        self.logPolar = LogPolarRepresentation(H, W)\n",
    "        self.highPassFilter = HighPassFilter()\n",
    "    \n",
    "    def transform_rot_parameter(self, rotIdx):\n",
    "        return -rotIdx +90\n",
    "    def transform_scale_parameter(self, scaleIdx, width):\n",
    "        radius = (torch.norm(torch.tensor([self.logPolar.H, self.logPolar.W], dtype=torch.float32))/2).long().item()\n",
    "        return (radius ** (-((scaleIdx - width//2)) / radius))\n",
    "    def transform_translation_parameters(self, iMax, jMax, pcH, pcW):\n",
    "        return iMax.where(iMax<pcH//2, iMax-pcH),jMax.where(jMax<pcW//2, jMax-pcW)\n",
    "    def get_rot_scale(self, pc_rot_scale, ):\n",
    "        topPc = pc_rot_scale.abs().flatten(-2).topk(1, dim=(-1))\n",
    "        predsRotsScale = torch.stack(torch.unravel_index(topPc.indices, pc_rot_scale.shape[-2:]), -2)\n",
    "        estRot = self.transform_rot_parameter(predsRotsScale[:,0,0])\n",
    "        estScale = self.transform_scale_parameter(predsRotsScale[:,1], pc_rot_scale.size(-1))[...,0] \n",
    "        return estRot, estScale\n",
    "    \n",
    "    def get_translations(self, pc_translat ):\n",
    "        iMax, jMax =  torch.unravel_index(pc_translat.flatten(-2).sum(-2).argmax(-1), pc_translat.shape[-2:]) \n",
    "        estTrans = torch.stack(self.transform_translation_parameters(iMax, jMax, *pc_translat.shape[-2:]), dim=-1)\n",
    "        return estTrans\n",
    "    \n",
    "    def forward(self, image, template):\n",
    "        imageFft = torch.fft.fftshift(torch.fft.fft2(image))\n",
    "        templateFft = torch.fft.fftshift(torch.fft.fft2(template))\n",
    "        imageFftAbs = self.highPassFilter(imageFft)\n",
    "        templateFftAbs =  self.highPassFilter(templateFft)\n",
    "        imageLogPolar = self.logPolar.cart2pol(imageFftAbs)\n",
    "        templateLogPolar = self.logPolar.cart2pol(templateFftAbs)\n",
    "        pcRotScale = PhaseCorrelation(shift=True)(imageLogPolar[...,:180,:],templateLogPolar[...,:180,:]).sum(-3)\n",
    "        estRot, estScale = self.get_rot_scale(pcRotScale)\n",
    "        templateUnrotUnscaled = RigidTransform(1/estScale, torch.zeros_like(estScale), torch.zeros_like(estScale), -estRot )(template)\n",
    "        pcTranslat = PhaseCorrelation(shift=False)(image,templateUnrotUnscaled)\n",
    "        estTrans = self.get_translations(pcTranslat)\n",
    "        return {\n",
    "            'estRot': estRot,\n",
    "            'estScale': estScale,\n",
    "            'estTrans': estTrans,\n",
    "            'pcRotScale': pcRotScale,\n",
    "            'pcTranslat': pcTranslat\n",
    "        } \n",
    "        \n",
    "    def register_image(self,image, template):\n",
    "        params = self(image, template)\n",
    "        estTransTransf= torch.einsum(\"bcd, bd -> bc\", RigidTransform.rotmat_2d(params['estRot']), params['estTrans'].float())/params['estScale'].unsqueeze(-1)\n",
    "        imageTransfInv= RigidTransform(1/params['estScale'],-estTransTransf[:,1], -estTransTransf[:,0], -params['estRot'])(template)\n",
    "        return dict(registered=imageTransfInv, params=params)\n",
    "    \n",
    "def scale_loss(estScale, gtScale):\n",
    "    return ((estScale/ gtScale -1)**2).sum(-1)\n",
    "def rot_loss(estRot, gtAngle):\n",
    "    return ((((estRot)- gtAngle)/180)**2).sum(-1)\n",
    "\n",
    "\n",
    "image = torchvision.io.read_image('public/mandrill.png')/255.\n",
    "N=20\n",
    "bimage = image.unsqueeze(0).expand(N,-1,-1,-1)\n",
    "gtScale = torch.rand(N)+0.55\n",
    "gtAngle = torch.randint(-90, 90, (N,)).float()\n",
    "gtTransX = 75*(torch.rand(N)*2-1)\n",
    "gtTransY = 75*(torch.rand(N)*2-1)\n",
    "bimageTransf = RigidTransform(gtScale, gtTransX, gtTransY, gtAngle)(bimage)"
   ]
  },
  {
   "cell_type": "code",
   "execution_count": null,
   "id": "ee954f92",
   "metadata": {},
   "outputs": [],
   "source": []
  },
  {
   "cell_type": "code",
   "execution_count": 2,
   "id": "2d91f705",
   "metadata": {},
   "outputs": [],
   "source": [
    "mf = MellinFourierRegistration(*bimage.shape[-2:])\n",
    "ans = mf.register_image(bimage, bimageTransf)\n",
    "imageTransfRegistered = ans['registered']\n"
   ]
  },
  {
   "cell_type": "code",
   "execution_count": 49,
   "id": "8a2d1aee",
   "metadata": {},
   "outputs": [],
   "source": [
    "nQuery = 2\n",
    "H,W = ans[\"params\"][\"pcRotScale\"].shape[-2:]\n",
    "randomRotScale = torch.unravel_index(torch.arange(H*W), (H,W))"
   ]
  },
  {
   "cell_type": "code",
   "execution_count": 50,
   "id": "48160fa9",
   "metadata": {},
   "outputs": [
    {
     "data": {
      "text/plain": [
       "(tensor([  0,   0,   0,  ..., 179, 179, 179]),\n",
       " tensor([  0,   1,   2,  ..., 359, 360, 361]))"
      ]
     },
     "execution_count": 50,
     "metadata": {},
     "output_type": "execute_result"
    }
   ],
   "source": [
    "randomRotScale"
   ]
  },
  {
   "cell_type": "code",
   "execution_count": 52,
   "id": "f0fd110b",
   "metadata": {},
   "outputs": [
    {
     "data": {
      "text/plain": [
       "tensor([[ 9.0000e+01,  1.9026e+01],\n",
       "        [ 9.0000e+01,  1.8719e+01],\n",
       "        [ 9.0000e+01,  1.8417e+01],\n",
       "        ...,\n",
       "        [-8.9000e+01,  5.5189e-02],\n",
       "        [-8.9000e+01,  5.4298e-02],\n",
       "        [-8.9000e+01,  5.3421e-02]])"
      ]
     },
     "execution_count": 52,
     "metadata": {},
     "output_type": "execute_result"
    }
   ],
   "source": [
    "torch.stack([mf.transform_rot_parameter(randomRotScale[0]),mf.transform_scale_parameter(randomRotScale[1], W)],-1)"
   ]
  },
  {
   "cell_type": "code",
   "execution_count": 55,
   "id": "431e8224",
   "metadata": {},
   "outputs": [],
   "source": [
    "H,W = ans[\"params\"][\"pcTranslat\"].shape[-2:]\n",
    "randomTranslat = torch.unravel_index(torch.arange(H*W), (H,W))"
   ]
  },
  {
   "cell_type": "code",
   "execution_count": 56,
   "id": "3fd321a2",
   "metadata": {},
   "outputs": [
    {
     "data": {
      "text/plain": [
       "(tensor([ 0,  0,  0,  ..., -1, -1, -1]),\n",
       " tensor([ 0,  1,  2,  ..., -3, -2, -1]))"
      ]
     },
     "execution_count": 56,
     "metadata": {},
     "output_type": "execute_result"
    }
   ],
   "source": [
    "mf.transform_translation_parameters(randomTranslat[0],randomTranslat[1], H,W)"
   ]
  },
  {
   "cell_type": "code",
   "execution_count": null,
   "id": "2a53354c",
   "metadata": {},
   "outputs": [],
   "source": [
    "\n",
    "fig, axs = plt.subplots(10, 2, figsize=(8, 24))\n",
    "for i in range(10):\n",
    "    axs[i, 0].imshow(bimageTransf[i].moveaxis(0,-1))\n",
    "    axs[i, 0].set_title('Rigid Transformed')\n",
    "    axs[i, 0].axis('off')\n",
    "    axs[i, 1].imshow(imageTransfRegistered[i].moveaxis(0,-1))\n",
    "    axs[i, 1].set_title('Registered Image')\n",
    "    axs[i, 1].imshow(bimage[i].moveaxis(0,-1), alpha=0.5)\n",
    "    axs[i, 1].axis('off')\n",
    "plt.tight_layout()\n",
    "plt.show()"
   ]
  },
  {
   "cell_type": "code",
   "execution_count": null,
   "id": "fc7fa5a1",
   "metadata": {},
   "outputs": [],
   "source": [
    "qsdqsd"
   ]
  },
  {
   "cell_type": "code",
   "execution_count": null,
   "id": "68fc9abe",
   "metadata": {},
   "outputs": [],
   "source": [
    "plt.imshow(LogPolarRepresentation(*bimage.shape[-2:]).cart2pol(\n",
    "        bimage\n",
    ")[0].mean(0))"
   ]
  },
  {
   "cell_type": "code",
   "execution_count": null,
   "id": "1ca892dd",
   "metadata": {},
   "outputs": [],
   "source": [
    "plt.imshow(\n",
    "        bimageTransf\n",
    "[6].mean(0))"
   ]
  },
  {
   "cell_type": "code",
   "execution_count": null,
   "id": "ea85d6da",
   "metadata": {},
   "outputs": [],
   "source": [
    "plt.imshow(LogPolarRepresentation(*bimage.shape[-2:]).cart2pol(\n",
    "        bimageTransf\n",
    ")[6].mean(0))"
   ]
  },
  {
   "cell_type": "code",
   "execution_count": null,
   "id": "6bfb64e3",
   "metadata": {},
   "outputs": [],
   "source": [
    "plt.imshow(LogPolarRepresentation(*bimage.shape[-2:]).pol2cart(LogPolarRepresentation(*bimage.shape[-2:]).cart2pol(\n",
    "        bimage\n",
    "))[6].mean(0))\n",
    "plt.colorbar()\n",
    "plt.imshow(bimage[6].mean(0), alpha=0.5)"
   ]
  },
  {
   "cell_type": "code",
   "execution_count": null,
   "id": "915eba23",
   "metadata": {},
   "outputs": [],
   "source": [
    "hp_filt = HighPassFilter()\n",
    "logpol = LogPolarRepresentation(*bimage.shape[-2:])\n",
    "\n",
    "bimageFft = fft2d(bimage)\n",
    "bimageTransfFft = fft2d(bimageTransf)\n",
    "bimageFftAbs = hp_filt(bimageFft)\n",
    "bimageFftTransfAbs =  hp_filt(bimageTransfFft)"
   ]
  },
  {
   "cell_type": "code",
   "execution_count": null,
   "id": "eba7792b",
   "metadata": {},
   "outputs": [],
   "source": [
    "bimageLogPolMag = logpol.cart2pol(bimageFftAbs)\n",
    "bimageTransfLogPolMag = logpol.cart2pol(bimageFftTransfAbs)"
   ]
  },
  {
   "cell_type": "code",
   "execution_count": null,
   "id": "b7537d9d",
   "metadata": {},
   "outputs": [],
   "source": [
    "plt.imshow(bimageLogPolMag[6].mean(0))"
   ]
  },
  {
   "cell_type": "code",
   "execution_count": null,
   "id": "af804660",
   "metadata": {},
   "outputs": [],
   "source": [
    "bimageLogPolMag.shape"
   ]
  },
  {
   "cell_type": "code",
   "execution_count": null,
   "id": "dad1c9b3",
   "metadata": {},
   "outputs": [],
   "source": [
    "pc = PhaseCorrelation()(bimageLogPolMag[...,:180,:],bimageTransfLogPolMag[...,:180,:]).sum(-3)\n",
    "\n",
    "plt.imshow(pc.abs()[0])"
   ]
  },
  {
   "cell_type": "code",
   "execution_count": null,
   "id": "ad62cda6",
   "metadata": {},
   "outputs": [],
   "source": [
    "topPc = pc.abs().flatten(-2).topk(1, dim=(-1))\n",
    "predsRotsScale = torch.stack(torch.unravel_index(topPc.indices, pc.shape[-2:]), -2)\n",
    "estRot = -predsRotsScale[:,0,0] + 90\n",
    "radius = (torch.norm(torch.tensor(bimage.shape[-2:], dtype=torch.float32))/2).long().item()\n",
    "estScale = (radius ** (-((predsRotsScale[:,1] - pc.size(-1)//2)) / radius))[...,0] "
   ]
  },
  {
   "cell_type": "code",
   "execution_count": null,
   "id": "7ad2f096",
   "metadata": {},
   "outputs": [],
   "source": [
    "(estRot-gtAngle)%180"
   ]
  },
  {
   "cell_type": "code",
   "execution_count": null,
   "id": "cfe9cb0b",
   "metadata": {},
   "outputs": [],
   "source": [
    "scale_loss(estScale,gtScale),rot_loss(estRot, gtAngle)"
   ]
  },
  {
   "cell_type": "code",
   "execution_count": null,
   "id": "c75d2e76",
   "metadata": {},
   "outputs": [],
   "source": [
    "bimageUnrotUnscaled = RigidTransform(1/estScale, torch.zeros_like(estScale), torch.zeros_like(estScale), -estRot )(bimageTransf)"
   ]
  },
  {
   "cell_type": "code",
   "execution_count": null,
   "id": "6881fefb",
   "metadata": {},
   "outputs": [],
   "source": [
    "pc_translat = PhaseCorrelation(shift=False)(bimage,bimageUnrotUnscaled)\n",
    "iMax, jMax =  torch.unravel_index(pc_translat.flatten(-2).sum(-2).argmax(-1), pc_translat.shape[-2:]) \n",
    "estTrans = torch.stack([iMax.where(iMax<pc_translat.size(-2)//2, iMax-pc_translat.size(-2)),jMax.where(jMax<pc_translat.size(-1)//2, jMax-pc_translat.size(-1))], dim=-1)\n",
    "gtTrans = torch.stack([gtTransY, gtTransX], dim=-1)"
   ]
  },
  {
   "cell_type": "code",
   "execution_count": null,
   "id": "ca15936b",
   "metadata": {},
   "outputs": [],
   "source": [
    "gtTrans.long()-estTrans"
   ]
  },
  {
   "cell_type": "code",
   "execution_count": null,
   "id": "54b179bb",
   "metadata": {},
   "outputs": [],
   "source": []
  },
  {
   "cell_type": "code",
   "execution_count": null,
   "id": "17d30933",
   "metadata": {},
   "outputs": [],
   "source": []
  },
  {
   "cell_type": "code",
   "execution_count": null,
   "id": "8c4564d5",
   "metadata": {},
   "outputs": [],
   "source": []
  },
  {
   "cell_type": "code",
   "execution_count": null,
   "id": "5ef66f60",
   "metadata": {},
   "outputs": [],
   "source": [
    "gtTrans"
   ]
  },
  {
   "cell_type": "code",
   "execution_count": null,
   "id": "462218d8",
   "metadata": {},
   "outputs": [],
   "source": [
    "estTransTransf= torch.einsum(\"bcd, bd -> bc\", RigidTransform.rotmat_2d(estRot), estTrans.float())/estScale.unsqueeze(-1)\n",
    "bimageUntransf= RigidTransform(1/estScale,-estTransTransf[:,1], -estTransTransf[:,0], -estRot)(bimageTransf)\n",
    "fig, axs = plt.subplots(10, 3, figsize=(8, 24))\n",
    "for i in range(10):\n",
    "    axs[i, 0].imshow(bimageTransf[i].mean(0))\n",
    "    axs[i, 0].set_title('Rigid Transformed')\n",
    "    axs[i, 0].axis('off')\n",
    "    axs[i, 1].imshow(bimageUnrotUnscaled[i].mean(0))\n",
    "    axs[i, 1].set_title('Unrot & Unscaled Image')\n",
    "    axs[i, 1].axis('off')\n",
    "    axs[i, 2].imshow(bimageUntransf[i].mean(0))\n",
    "    axs[i, 2].set_title('Registered Image')\n",
    "    axs[i, 2].imshow(bimage[i].mean(0), alpha=0.5)\n",
    "    axs[i, 2].axis('off')\n",
    "plt.tight_layout()\n",
    "plt.show()"
   ]
  },
  {
   "cell_type": "code",
   "execution_count": null,
   "id": "c4607558",
   "metadata": {},
   "outputs": [],
   "source": [
    "estTrans[:,1]"
   ]
  },
  {
   "cell_type": "code",
   "execution_count": null,
   "id": "56c0bf09",
   "metadata": {},
   "outputs": [],
   "source": [
    "estTransTransf"
   ]
  },
  {
   "cell_type": "code",
   "execution_count": null,
   "id": "319775cb",
   "metadata": {},
   "outputs": [],
   "source": []
  },
  {
   "cell_type": "code",
   "execution_count": null,
   "id": "65351d65",
   "metadata": {},
   "outputs": [],
   "source": []
  },
  {
   "cell_type": "code",
   "execution_count": null,
   "id": "e221307a",
   "metadata": {},
   "outputs": [],
   "source": []
  }
 ],
 "metadata": {
  "kernelspec": {
   "display_name": "torch_cuda",
   "language": "python",
   "name": "python3"
  },
  "language_info": {
   "codemirror_mode": {
    "name": "ipython",
    "version": 3
   },
   "file_extension": ".py",
   "mimetype": "text/x-python",
   "name": "python",
   "nbconvert_exporter": "python",
   "pygments_lexer": "ipython3",
   "version": "3.12.3"
  }
 },
 "nbformat": 4,
 "nbformat_minor": 5
}
